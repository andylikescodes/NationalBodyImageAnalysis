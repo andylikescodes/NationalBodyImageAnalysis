{
 "cells": [
  {
   "cell_type": "code",
   "execution_count": 1,
   "metadata": {},
   "outputs": [],
   "source": [
    "import pandas as pd\n",
    "import numpy as np"
   ]
  },
  {
   "cell_type": "code",
   "execution_count": 7,
   "metadata": {},
   "outputs": [],
   "source": [
    "data = pd.read_csv('model/aggregate.csv')"
   ]
  },
  {
   "cell_type": "code",
   "execution_count": 22,
   "metadata": {},
   "outputs": [],
   "source": [
    "def process(regex):\n",
    "    subset = data.filter(regex=regex)\n",
    "    return subset.mean().values"
   ]
  },
  {
   "cell_type": "code",
   "execution_count": 26,
   "metadata": {},
   "outputs": [],
   "source": [
    "nn_raw = process('^raw_nn_1_test')\n",
    "nn_agg = process('^nn_1_test')\n",
    "lr_raw = process('^raw_lr_test')\n",
    "lr_agg = process('^lr_test')\n",
    "rf_raw = process('^raw_rf_test')\n",
    "rf_agg = process('^rf_test')"
   ]
  },
  {
   "cell_type": "code",
   "execution_count": 29,
   "metadata": {},
   "outputs": [],
   "source": [
    "models = pd.DataFrame({'nn_raw': nn_raw,\n",
    "                       'nn_agg': nn_agg,\n",
    "                       'lr_raw': lr_raw,\n",
    "                       'lr_agg': lr_agg,\n",
    "                       'rf_raw': rf_raw,\n",
    "                       'rf_agg': rf_agg})"
   ]
  },
  {
   "cell_type": "code",
   "execution_count": 31,
   "metadata": {},
   "outputs": [],
   "source": [
    "models.to_csv('model_x_agg.csv', index=False)"
   ]
  },
  {
   "cell_type": "code",
   "execution_count": 28,
   "metadata": {},
   "outputs": [
    {
     "data": {
      "text/plain": [
       "array([0.55854835, 0.55772995, 0.30232596, 0.26980992, 0.43574931])"
      ]
     },
     "execution_count": 28,
     "metadata": {},
     "output_type": "execute_result"
    }
   ],
   "source": [
    "nn_agg"
   ]
  },
  {
   "cell_type": "code",
   "execution_count": 34,
   "metadata": {},
   "outputs": [],
   "source": [
    "data = pd.read_csv('man_women/woman_aggregate.csv')"
   ]
  },
  {
   "cell_type": "code",
   "execution_count": 36,
   "metadata": {},
   "outputs": [],
   "source": [
    "lr_man = process('^man_lr_test')\n",
    "lr_woman = process('^lr_test')\n",
    "rf_man = process('^man_rf_test')\n",
    "rf_woman = process('^rf_test')"
   ]
  },
  {
   "cell_type": "code",
   "execution_count": 49,
   "metadata": {},
   "outputs": [],
   "source": [
    "lr_man_modified = np.concatenate([lr_woman[:2], lr_man[2:]]) \n",
    "lr_woman_modified = np.concatenate([lr_man[:2], lr_woman[2:]])\n",
    "rf_man_modified = np.concatenate([rf_woman[:2], rf_man[2:]]) \n",
    "rf_woman_modified = np.concatenate([rf_man[:2], rf_woman[2:]])"
   ]
  },
  {
   "cell_type": "code",
   "execution_count": 50,
   "metadata": {},
   "outputs": [],
   "source": [
    "gender_x_models = pd.DataFrame({'lr_man': lr_man_modified,\n",
    "                       'lr_woman': lr_woman_modified,\n",
    "                       'rf_man': rf_man_modified,\n",
    "                       'rf_woman': rf_woman_modified})"
   ]
  },
  {
   "cell_type": "code",
   "execution_count": 51,
   "metadata": {},
   "outputs": [
    {
     "data": {
      "text/html": [
       "<div>\n",
       "<style scoped>\n",
       "    .dataframe tbody tr th:only-of-type {\n",
       "        vertical-align: middle;\n",
       "    }\n",
       "\n",
       "    .dataframe tbody tr th {\n",
       "        vertical-align: top;\n",
       "    }\n",
       "\n",
       "    .dataframe thead th {\n",
       "        text-align: right;\n",
       "    }\n",
       "</style>\n",
       "<table border=\"1\" class=\"dataframe\">\n",
       "  <thead>\n",
       "    <tr style=\"text-align: right;\">\n",
       "      <th></th>\n",
       "      <th>lr_man</th>\n",
       "      <th>lr_woman</th>\n",
       "      <th>rf_man</th>\n",
       "      <th>rf_woman</th>\n",
       "    </tr>\n",
       "  </thead>\n",
       "  <tbody>\n",
       "    <tr>\n",
       "      <th>0</th>\n",
       "      <td>0.502656</td>\n",
       "      <td>0.543602</td>\n",
       "      <td>0.529871</td>\n",
       "      <td>0.567004</td>\n",
       "    </tr>\n",
       "    <tr>\n",
       "      <th>1</th>\n",
       "      <td>0.478660</td>\n",
       "      <td>0.532061</td>\n",
       "      <td>0.507646</td>\n",
       "      <td>0.554590</td>\n",
       "    </tr>\n",
       "    <tr>\n",
       "      <th>2</th>\n",
       "      <td>0.262958</td>\n",
       "      <td>0.249618</td>\n",
       "      <td>0.299548</td>\n",
       "      <td>0.289372</td>\n",
       "    </tr>\n",
       "    <tr>\n",
       "      <th>3</th>\n",
       "      <td>0.254902</td>\n",
       "      <td>0.217651</td>\n",
       "      <td>0.256842</td>\n",
       "      <td>0.232879</td>\n",
       "    </tr>\n",
       "    <tr>\n",
       "      <th>4</th>\n",
       "      <td>0.399922</td>\n",
       "      <td>0.430282</td>\n",
       "      <td>0.417583</td>\n",
       "      <td>0.441648</td>\n",
       "    </tr>\n",
       "  </tbody>\n",
       "</table>\n",
       "</div>"
      ],
      "text/plain": [
       "     lr_man  lr_woman    rf_man  rf_woman\n",
       "0  0.502656  0.543602  0.529871  0.567004\n",
       "1  0.478660  0.532061  0.507646  0.554590\n",
       "2  0.262958  0.249618  0.299548  0.289372\n",
       "3  0.254902  0.217651  0.256842  0.232879\n",
       "4  0.399922  0.430282  0.417583  0.441648"
      ]
     },
     "execution_count": 51,
     "metadata": {},
     "output_type": "execute_result"
    }
   ],
   "source": [
    "gender_x_models"
   ]
  },
  {
   "cell_type": "code",
   "execution_count": 53,
   "metadata": {},
   "outputs": [],
   "source": [
    "gender_x_models.to_csv('gender_x_model.csv', index=False)"
   ]
  },
  {
   "cell_type": "code",
   "execution_count": null,
   "metadata": {},
   "outputs": [],
   "source": []
  }
 ],
 "metadata": {
  "kernelspec": {
   "display_name": "Python 3",
   "language": "python",
   "name": "python3"
  },
  "language_info": {
   "codemirror_mode": {
    "name": "ipython",
    "version": 3
   },
   "file_extension": ".py",
   "mimetype": "text/x-python",
   "name": "python",
   "nbconvert_exporter": "python",
   "pygments_lexer": "ipython3",
   "version": "3.9.5"
  }
 },
 "nbformat": 4,
 "nbformat_minor": 4
}
