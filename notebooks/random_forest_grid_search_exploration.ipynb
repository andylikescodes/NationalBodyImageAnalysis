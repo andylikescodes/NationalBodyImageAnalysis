{
 "cells": [
  {
   "cell_type": "code",
   "execution_count": 46,
   "metadata": {},
   "outputs": [],
   "source": [
    "import pandas as pd\n",
    "import numpy as np\n",
    "import matplotlib.pyplot as plt\n",
    "import constants as c\n",
    "import statsmodels.api as sm\n",
    "from sklearn.decomposition import PCA\n",
    "import itertools\n",
    "import matplotlib.pyplot as plt\n",
    "from mpl_toolkits.mplot3d import Axes3D\n",
    "from sklearn.preprocessing import StandardScaler\n",
    "import time\n",
    "from sklearn.ensemble import RandomForestRegressor\n",
    "from sklearn.model_selection import train_test_split\n",
    "from sklearn.metrics import make_scorer\n",
    "%matplotlib notebook"
   ]
  },
  {
   "cell_type": "markdown",
   "metadata": {},
   "source": [
    "# Exploration of random forest grid search parameters"
   ]
  },
  {
   "cell_type": "code",
   "execution_count": 47,
   "metadata": {},
   "outputs": [],
   "source": [
    "# Define the adjusted r-squared evaluation metrics\n",
    "def score(y, y_pred, X):\n",
    "    SS_Residual = sum((y-y_pred)**2)\n",
    "    SS_Total = sum((y-np.mean(y))**2)\n",
    "    r_squared = 1 - (float(SS_Residual))/SS_Total\n",
    "    adjusted_r_squared = 1 - (1-r_squared)*(len(y)-1)/(len(y)-X.shape[1]-1)\n",
    "    return adjusted_r_squared\n",
    "\n",
    "adjusted_rsquared_scorer = make_scorer(score, X=X_train)"
   ]
  },
  {
   "cell_type": "code",
   "execution_count": 14,
   "metadata": {},
   "outputs": [],
   "source": [
    "# Load data\n",
    "data = pd.read_excel(\"../data/NationalBodyProjectTurk.xlsx\")\n",
    "\n",
    "X_cat = pd.get_dummies(data.loc[:, c.cat_demo], drop_first=True)\n",
    "X_num = data.loc[:, c.num_demo + c.survey_data_aggregate]\n",
    "\n",
    "X = pd.concat([X_cat, X_num], axis=1)\n",
    "\n",
    "ys = data.loc[:, c.y_variables]\n"
   ]
  },
  {
   "cell_type": "code",
   "execution_count": 27,
   "metadata": {},
   "outputs": [],
   "source": [
    "# Train test split\n",
    "dependent_var = 'AETOTAL'\n",
    "y = ys[dependent_var]\n",
    "X_train, X_test, y_train, y_test = train_test_split(X, y, test_size=0.33, random_state=42)"
   ]
  },
  {
   "cell_type": "code",
   "execution_count": 28,
   "metadata": {},
   "outputs": [
    {
     "name": "stdout",
     "output_type": "stream",
     "text": [
      "11.077836990356445\n"
     ]
    }
   ],
   "source": [
    "# Estimate time on running one random forest model\n",
    "t = time.time()\n",
    "dependent_var = 'AETOTAL'\n",
    "y = ys[dependent_var]\n",
    "forest = RandomForestRegressor(random_state=0, max_depth=30, min_samples_leaf=5, min_samples_split=10, n_estimators=500)\n",
    "forest.fit(X_train, y_train)\n",
    "elapsed = time.time() - t\n",
    "print(elapsed)"
   ]
  },
  {
   "cell_type": "code",
   "execution_count": 29,
   "metadata": {},
   "outputs": [
    {
     "name": "stdout",
     "output_type": "stream",
     "text": [
      "training R2:\n",
      "0.8011135293920445\n",
      "testing R2:\n",
      "0.5819794801568685\n"
     ]
    }
   ],
   "source": [
    "print('training R2:')\n",
    "print(score(y_train, forest.predict(X_train), X_train))\n",
    "print('testing R2:')\n",
    "pred = forest.predict(X_test)\n",
    "print(score(y_test, pred, X_train))"
   ]
  },
  {
   "cell_type": "code",
   "execution_count": 30,
   "metadata": {},
   "outputs": [
    {
     "name": "stdout",
     "output_type": "stream",
     "text": [
      "11.066832780838013\n"
     ]
    }
   ],
   "source": [
    "# Exploring various random forest parameters\n",
    "t = time.time()\n",
    "forest = RandomForestRegressor(random_state=0, max_depth=50, min_samples_leaf=5, min_samples_split=10, n_estimators=500)\n",
    "forest.fit(X_train, y_train)\n",
    "elapsed = time.time() - t\n",
    "print(elapsed)"
   ]
  },
  {
   "cell_type": "code",
   "execution_count": 31,
   "metadata": {},
   "outputs": [
    {
     "name": "stdout",
     "output_type": "stream",
     "text": [
      "training R2:\n",
      "0.8011135293920445\n",
      "testing R2:\n",
      "0.5819794801568685\n"
     ]
    }
   ],
   "source": [
    "print('training R2:')\n",
    "print(score(y_train, forest.predict(X_train), X_train))\n",
    "print('testing R2:')\n",
    "pred = forest.predict(X_test)\n",
    "print(score(y_test, pred, X_train))"
   ]
  },
  {
   "cell_type": "code",
   "execution_count": 32,
   "metadata": {},
   "outputs": [
    {
     "name": "stdout",
     "output_type": "stream",
     "text": [
      "10.188202857971191\n",
      "training R2:\n",
      "0.8011135293920445\n",
      "testing R2:\n",
      "0.5819794801568685\n"
     ]
    }
   ],
   "source": [
    "t = time.time()\n",
    "forest = RandomForestRegressor(random_state=0, max_depth=100, min_samples_leaf=5, min_samples_split=10, n_estimators=500)\n",
    "forest.fit(X_train, y_train)\n",
    "elapsed = time.time() - t\n",
    "print(elapsed)\n",
    "print('training R2:')\n",
    "print(score(y_train, forest.predict(X_train), X_train))\n",
    "print('testing R2:')\n",
    "pred = forest.predict(X_test)\n",
    "print(score(y_test, pred, X_train))"
   ]
  },
  {
   "cell_type": "code",
   "execution_count": 33,
   "metadata": {},
   "outputs": [
    {
     "name": "stdout",
     "output_type": "stream",
     "text": [
      "10.190093994140625\n",
      "training R2:\n",
      "0.8009693455198915\n",
      "testing R2:\n",
      "0.5820070613975936\n"
     ]
    }
   ],
   "source": [
    "t = time.time()\n",
    "forest = RandomForestRegressor(random_state=0, max_depth=20, min_samples_leaf=5, min_samples_split=10, n_estimators=500)\n",
    "forest.fit(X_train, y_train)\n",
    "elapsed = time.time() - t\n",
    "print(elapsed)\n",
    "print('training R2:')\n",
    "print(score(y_train, forest.predict(X_train), X_train))\n",
    "print('testing R2:')\n",
    "pred = forest.predict(X_test)\n",
    "print(score(y_test, pred, X_train))"
   ]
  },
  {
   "cell_type": "code",
   "execution_count": 34,
   "metadata": {},
   "outputs": [
    {
     "name": "stdout",
     "output_type": "stream",
     "text": [
      "10.074911832809448\n",
      "training R2:\n",
      "0.795612881856352\n",
      "testing R2:\n",
      "0.5820919698720516\n"
     ]
    }
   ],
   "source": [
    "t = time.time()\n",
    "forest = RandomForestRegressor(random_state=0, max_depth=15, min_samples_leaf=5, min_samples_split=10, n_estimators=500)\n",
    "forest.fit(X_train, y_train)\n",
    "elapsed = time.time() - t\n",
    "print(elapsed)\n",
    "print('training R2:')\n",
    "print(score(y_train, forest.predict(X_train), X_train))\n",
    "print('testing R2:')\n",
    "pred = forest.predict(X_test)\n",
    "print(score(y_test, pred, X_train))"
   ]
  },
  {
   "cell_type": "code",
   "execution_count": 37,
   "metadata": {},
   "outputs": [
    {
     "name": "stdout",
     "output_type": "stream",
     "text": [
      "12.851594924926758\n",
      "training R2:\n",
      "0.9106601321981838\n",
      "testing R2:\n",
      "0.5809902863388636\n"
     ]
    }
   ],
   "source": [
    "t = time.time()\n",
    "forest = RandomForestRegressor(random_state=0, max_depth=15, min_samples_leaf=1, min_samples_split=2, n_estimators=500)\n",
    "forest.fit(X_train, y_train)\n",
    "elapsed = time.time() - t\n",
    "print(elapsed)\n",
    "print('training R2:')\n",
    "print(score(y_train, forest.predict(X_train), X_train))\n",
    "print('testing R2:')\n",
    "pred = forest.predict(X_test)\n",
    "print(score(y_test, pred, X_train))"
   ]
  },
  {
   "cell_type": "code",
   "execution_count": 38,
   "metadata": {},
   "outputs": [
    {
     "name": "stdout",
     "output_type": "stream",
     "text": [
      "14.738137006759644\n",
      "training R2:\n",
      "0.9401166348610652\n",
      "testing R2:\n",
      "0.5803172282115419\n"
     ]
    }
   ],
   "source": [
    "t = time.time()\n",
    "forest = RandomForestRegressor(random_state=0, max_depth=100, min_samples_leaf=1, min_samples_split=2, n_estimators=500)\n",
    "forest.fit(X_train, y_train)\n",
    "elapsed = time.time() - t\n",
    "print(elapsed)\n",
    "print('training R2:')\n",
    "print(score(y_train, forest.predict(X_train), X_train))\n",
    "print('testing R2:')\n",
    "pred = forest.predict(X_test)\n",
    "print(score(y_test, pred, X_train))"
   ]
  },
  {
   "cell_type": "code",
   "execution_count": 40,
   "metadata": {},
   "outputs": [],
   "source": [
    "from sklearn.model_selection import cross_val_score\n",
    "forest = RandomForestRegressor(random_state=0, max_depth=15, min_samples_leaf=5, min_samples_split=5, n_estimators=500)\n",
    "scores = cross_val_score(forest, X_train, y_train, cv=10)"
   ]
  },
  {
   "cell_type": "code",
   "execution_count": 43,
   "metadata": {},
   "outputs": [
    {
     "data": {
      "text/plain": [
       "0.5586994275030317"
      ]
     },
     "execution_count": 43,
     "metadata": {},
     "output_type": "execute_result"
    }
   ],
   "source": [
    "np.mean(scores)"
   ]
  },
  {
   "cell_type": "code",
   "execution_count": 49,
   "metadata": {},
   "outputs": [
    {
     "data": {
      "text/plain": [
       "0.5499537811396279"
      ]
     },
     "execution_count": 49,
     "metadata": {},
     "output_type": "execute_result"
    }
   ],
   "source": [
    "forest = RandomForestRegressor(random_state=0, max_depth=25, min_samples_leaf=5, min_samples_split=5, n_estimators=500)\n",
    "scores = cross_val_score(forest, X_train, y_train, cv=10, scoring=adjusted_rsquared_scorer)\n",
    "\n",
    "np.mean(scores)"
   ]
  },
  {
   "cell_type": "code",
   "execution_count": 50,
   "metadata": {},
   "outputs": [
    {
     "data": {
      "text/plain": [
       "0.5461682976080764"
      ]
     },
     "execution_count": 50,
     "metadata": {},
     "output_type": "execute_result"
    }
   ],
   "source": [
    "forest = RandomForestRegressor(random_state=0, max_depth=15, min_samples_leaf=1, min_samples_split=5, n_estimators=500)\n",
    "scores = cross_val_score(forest, X_train, y_train, cv=10, scoring=adjusted_rsquared_scorer)\n",
    "\n",
    "np.mean(scores)"
   ]
  },
  {
   "cell_type": "code",
   "execution_count": 52,
   "metadata": {},
   "outputs": [
    {
     "data": {
      "text/plain": [
       "0.5464036886420859"
      ]
     },
     "execution_count": 52,
     "metadata": {},
     "output_type": "execute_result"
    }
   ],
   "source": [
    "forest = RandomForestRegressor(random_state=0, max_depth=30, min_samples_leaf=1, min_samples_split=5, n_estimators=1000)\n",
    "scores = cross_val_score(forest, X_train, y_train, cv=10, scoring=adjusted_rsquared_scorer)\n",
    "\n",
    "np.mean(scores)"
   ]
  },
  {
   "cell_type": "code",
   "execution_count": 53,
   "metadata": {},
   "outputs": [
    {
     "data": {
      "text/plain": [
       "0.5459511795045602"
      ]
     },
     "execution_count": 53,
     "metadata": {},
     "output_type": "execute_result"
    }
   ],
   "source": [
    "forest = RandomForestRegressor(random_state=0, max_depth=100, min_samples_leaf=1, min_samples_split=2, n_estimators=500)\n",
    "scores = cross_val_score(forest, X_train, y_train, cv=10, scoring=adjusted_rsquared_scorer)\n",
    "\n",
    "np.mean(scores)"
   ]
  },
  {
   "cell_type": "code",
   "execution_count": 54,
   "metadata": {},
   "outputs": [
    {
     "data": {
      "text/plain": [
       "array([0.54432218, 0.52631654, 0.57073995, 0.51730921, 0.54389151,\n",
       "       0.56962867, 0.55528863, 0.58148859, 0.51410727, 0.53641925])"
      ]
     },
     "execution_count": 54,
     "metadata": {},
     "output_type": "execute_result"
    }
   ],
   "source": [
    "scores"
   ]
  },
  {
   "cell_type": "code",
   "execution_count": 55,
   "metadata": {
    "scrolled": true
   },
   "outputs": [
    {
     "name": "stdout",
     "output_type": "stream",
     "text": [
      "15.139902830123901\n",
      "training R2:\n",
      "0.9401166348610652\n",
      "testing R2:\n",
      "0.5803172282115419\n"
     ]
    }
   ],
   "source": [
    "t = time.time()\n",
    "forest = RandomForestRegressor(random_state=0, max_depth=100, min_samples_leaf=1, min_samples_split=2, n_estimators=500)\n",
    "forest.fit(X_train, y_train)\n",
    "elapsed = time.time() - t\n",
    "print(elapsed)\n",
    "print('training R2:')\n",
    "print(score(y_train, forest.predict(X_train), X_train))\n",
    "print('testing R2:')\n",
    "pred = forest.predict(X_test)\n",
    "print(score(y_test, pred, X_train))"
   ]
  },
  {
   "cell_type": "code",
   "execution_count": 68,
   "metadata": {},
   "outputs": [
    {
     "name": "stdout",
     "output_type": "stream",
     "text": [
      "3.1125869750976562\n",
      "training R2:\n",
      "0.937809742558861\n",
      "testing R2:\n",
      "0.5781832674347047\n"
     ]
    }
   ],
   "source": [
    "t = time.time()\n",
    "forest = RandomForestRegressor(random_state=0, max_depth=1000, min_samples_leaf=1, min_samples_split=2, n_estimators=100)\n",
    "forest.fit(X_train, y_train)\n",
    "elapsed = time.time() - t\n",
    "print(elapsed)\n",
    "print('training R2:')\n",
    "print(score(y_train, forest.predict(X_train), X_train))\n",
    "print('testing R2:')\n",
    "pred = forest.predict(X_test)\n",
    "print(score(y_test, pred, X_train))"
   ]
  },
  {
   "cell_type": "code",
   "execution_count": 56,
   "metadata": {},
   "outputs": [
    {
     "name": "stdout",
     "output_type": "stream",
     "text": [
      "4.404603958129883\n",
      "training R2:\n",
      "0.5476344293147479\n",
      "testing R2:\n",
      "0.5362767362401016\n"
     ]
    }
   ],
   "source": [
    "t = time.time()\n",
    "forest = RandomForestRegressor(random_state=0, max_depth=5, min_samples_leaf=1, min_samples_split=2, n_estimators=500)\n",
    "forest.fit(X_train, y_train)\n",
    "elapsed = time.time() - t\n",
    "print(elapsed)\n",
    "print('training R2:')\n",
    "print(score(y_train, forest.predict(X_train), X_train))\n",
    "print('testing R2:')\n",
    "pred = forest.predict(X_test)\n",
    "print(score(y_test, pred, X_train))"
   ]
  },
  {
   "cell_type": "code",
   "execution_count": 63,
   "metadata": {},
   "outputs": [
    {
     "name": "stdout",
     "output_type": "stream",
     "text": [
      "9.123662233352661\n",
      "training R2:\n",
      "0.5473665146443003\n",
      "testing R2:\n",
      "0.5359623813531416\n"
     ]
    }
   ],
   "source": [
    "t = time.time()\n",
    "# do stuff\n",
    "forest = RandomForestRegressor(random_state=0, max_depth=5, min_samples_leaf=5, min_samples_split=10, n_estimators=1000)\n",
    "forest.fit(X_train, y_train)\n",
    "elapsed = time.time() - t\n",
    "print(elapsed)\n",
    "print('training R2:')\n",
    "print(score(y_train, forest.predict(X_train), X_train))\n",
    "print('testing R2:')\n",
    "pred = forest.predict(X_test)\n",
    "print(score(y_test, pred, X_train))"
   ]
  },
  {
   "cell_type": "code",
   "execution_count": null,
   "metadata": {},
   "outputs": [],
   "source": [
    "t = time.time()\n",
    "# do stuff\n",
    "forest = RandomForestRegressor(random_state=0, max_depth=15, min_samples_leaf=1, min_samples_split=2, n_estimators=500)\n",
    "forest.fit(X_train, y_train)\n",
    "elapsed = time.time() - t\n",
    "print(elapsed)\n",
    "print('training R2:')\n",
    "print(score(y_train, forest.predict(X_train), X_train))\n",
    "print('testing R2:')\n",
    "pred = forest.predict(X_test)\n",
    "print(score(y_test, pred, X_train))"
   ]
  },
  {
   "cell_type": "code",
   "execution_count": 61,
   "metadata": {},
   "outputs": [
    {
     "name": "stdout",
     "output_type": "stream",
     "text": [
      "16.101330041885376\n",
      "training R2:\n",
      "0.9399384853036226\n",
      "testing R2:\n",
      "0.5803687599973553\n"
     ]
    }
   ],
   "source": [
    "t = time.time()\n",
    "# do stuff\n",
    "forest = RandomForestRegressor(random_state=0, max_depth=25, min_samples_leaf=1, min_samples_split=2, n_estimators=500)\n",
    "forest.fit(X_train, y_train)\n",
    "elapsed = time.time() - t\n",
    "print(elapsed)\n",
    "print('training R2:')\n",
    "print(score(y_train, forest.predict(X_train), X_train))\n",
    "print('testing R2:')\n",
    "pred = forest.predict(X_test)\n",
    "print(score(y_test, pred, X_train))"
   ]
  },
  {
   "cell_type": "code",
   "execution_count": 58,
   "metadata": {},
   "outputs": [],
   "source": [
    "forest = RandomForestRegressor(random_state=0, max_depth=5, min_samples_leaf=1, min_samples_split=2, n_estimators=500)\n",
    "scores = cross_val_score(forest, X_train, y_train, cv=10, scoring=adjusted_rsquared_scorer)"
   ]
  },
  {
   "cell_type": "code",
   "execution_count": 60,
   "metadata": {},
   "outputs": [
    {
     "data": {
      "text/plain": [
       "array([0.50197345, 0.47186949, 0.52182834, 0.47372189, 0.51811463,\n",
       "       0.53814934, 0.51994118, 0.53756225, 0.48248627, 0.50024365])"
      ]
     },
     "execution_count": 60,
     "metadata": {},
     "output_type": "execute_result"
    }
   ],
   "source": [
    "scores"
   ]
  },
  {
   "cell_type": "code",
   "execution_count": null,
   "metadata": {},
   "outputs": [],
   "source": []
  }
 ],
 "metadata": {
  "kernelspec": {
   "display_name": "Python 3",
   "language": "python",
   "name": "python3"
  },
  "language_info": {
   "codemirror_mode": {
    "name": "ipython",
    "version": 3
   },
   "file_extension": ".py",
   "mimetype": "text/x-python",
   "name": "python",
   "nbconvert_exporter": "python",
   "pygments_lexer": "ipython3",
   "version": "3.9.5"
  }
 },
 "nbformat": 4,
 "nbformat_minor": 4
}
